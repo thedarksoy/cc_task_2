{
 "cells": [
  {
   "cell_type": "code",
   "execution_count": 1,
   "metadata": {
    "execution": {
     "iopub.execute_input": "2025-05-25T17:48:40.155960Z",
     "iopub.status.busy": "2025-05-25T17:48:40.155121Z",
     "iopub.status.idle": "2025-05-25T17:48:44.835962Z",
     "shell.execute_reply": "2025-05-25T17:48:44.834542Z",
     "shell.execute_reply.started": "2025-05-25T17:48:40.155928Z"
    },
    "trusted": true
   },
   "outputs": [
    {
     "name": "stdout",
     "output_type": "stream",
     "text": [
      "Requirement already satisfied: langgraph in /usr/local/lib/python3.11/dist-packages (0.4.7)\n",
      "Requirement already satisfied: langsmith in /usr/local/lib/python3.11/dist-packages (0.3.42)\n",
      "Requirement already satisfied: langchain-core>=0.1 in /usr/local/lib/python3.11/dist-packages (from langgraph) (0.3.61)\n",
      "Requirement already satisfied: langgraph-checkpoint>=2.0.26 in /usr/local/lib/python3.11/dist-packages (from langgraph) (2.0.26)\n",
      "Requirement already satisfied: langgraph-prebuilt>=0.2.0 in /usr/local/lib/python3.11/dist-packages (from langgraph) (0.2.1)\n",
      "Requirement already satisfied: langgraph-sdk>=0.1.42 in /usr/local/lib/python3.11/dist-packages (from langgraph) (0.1.70)\n",
      "Requirement already satisfied: pydantic>=2.7.4 in /usr/local/lib/python3.11/dist-packages (from langgraph) (2.11.4)\n",
      "Requirement already satisfied: xxhash>=3.5.0 in /usr/local/lib/python3.11/dist-packages (from langgraph) (3.5.0)\n",
      "Requirement already satisfied: httpx<1,>=0.23.0 in /usr/local/lib/python3.11/dist-packages (from langsmith) (0.28.1)\n",
      "Requirement already satisfied: orjson<4.0.0,>=3.9.14 in /usr/local/lib/python3.11/dist-packages (from langsmith) (3.10.16)\n",
      "Requirement already satisfied: packaging>=23.2 in /usr/local/lib/python3.11/dist-packages (from langsmith) (24.2)\n",
      "Requirement already satisfied: requests<3,>=2 in /usr/local/lib/python3.11/dist-packages (from langsmith) (2.32.3)\n",
      "Requirement already satisfied: requests-toolbelt<2.0.0,>=1.0.0 in /usr/local/lib/python3.11/dist-packages (from langsmith) (1.0.0)\n",
      "Requirement already satisfied: zstandard<0.24.0,>=0.23.0 in /usr/local/lib/python3.11/dist-packages (from langsmith) (0.23.0)\n",
      "Requirement already satisfied: anyio in /usr/local/lib/python3.11/dist-packages (from httpx<1,>=0.23.0->langsmith) (4.9.0)\n",
      "Requirement already satisfied: certifi in /usr/local/lib/python3.11/dist-packages (from httpx<1,>=0.23.0->langsmith) (2025.4.26)\n",
      "Requirement already satisfied: httpcore==1.* in /usr/local/lib/python3.11/dist-packages (from httpx<1,>=0.23.0->langsmith) (1.0.7)\n",
      "Requirement already satisfied: idna in /usr/local/lib/python3.11/dist-packages (from httpx<1,>=0.23.0->langsmith) (3.10)\n",
      "Requirement already satisfied: h11<0.15,>=0.13 in /usr/local/lib/python3.11/dist-packages (from httpcore==1.*->httpx<1,>=0.23.0->langsmith) (0.14.0)\n",
      "Requirement already satisfied: tenacity!=8.4.0,<10.0.0,>=8.1.0 in /usr/local/lib/python3.11/dist-packages (from langchain-core>=0.1->langgraph) (9.1.2)\n",
      "Requirement already satisfied: jsonpatch<2.0,>=1.33 in /usr/local/lib/python3.11/dist-packages (from langchain-core>=0.1->langgraph) (1.33)\n",
      "Requirement already satisfied: PyYAML>=5.3 in /usr/local/lib/python3.11/dist-packages (from langchain-core>=0.1->langgraph) (6.0.2)\n",
      "Requirement already satisfied: typing-extensions>=4.7 in /usr/local/lib/python3.11/dist-packages (from langchain-core>=0.1->langgraph) (4.13.2)\n",
      "Requirement already satisfied: ormsgpack<2.0.0,>=1.8.0 in /usr/local/lib/python3.11/dist-packages (from langgraph-checkpoint>=2.0.26->langgraph) (1.10.0)\n",
      "Requirement already satisfied: annotated-types>=0.6.0 in /usr/local/lib/python3.11/dist-packages (from pydantic>=2.7.4->langgraph) (0.7.0)\n",
      "Requirement already satisfied: pydantic-core==2.33.2 in /usr/local/lib/python3.11/dist-packages (from pydantic>=2.7.4->langgraph) (2.33.2)\n",
      "Requirement already satisfied: typing-inspection>=0.4.0 in /usr/local/lib/python3.11/dist-packages (from pydantic>=2.7.4->langgraph) (0.4.0)\n",
      "Requirement already satisfied: charset-normalizer<4,>=2 in /usr/local/lib/python3.11/dist-packages (from requests<3,>=2->langsmith) (3.4.2)\n",
      "Requirement already satisfied: urllib3<3,>=1.21.1 in /usr/local/lib/python3.11/dist-packages (from requests<3,>=2->langsmith) (2.4.0)\n",
      "Requirement already satisfied: jsonpointer>=1.9 in /usr/local/lib/python3.11/dist-packages (from jsonpatch<2.0,>=1.33->langchain-core>=0.1->langgraph) (3.0.0)\n",
      "Requirement already satisfied: sniffio>=1.1 in /usr/local/lib/python3.11/dist-packages (from anyio->httpx<1,>=0.23.0->langsmith) (1.3.1)\n",
      "Note: you may need to restart the kernel to use updated packages.\n"
     ]
    }
   ],
   "source": [
    "pip install -U langgraph langsmith"
   ]
  },
  {
   "cell_type": "code",
   "execution_count": 2,
   "metadata": {
    "execution": {
     "iopub.execute_input": "2025-05-25T17:48:44.838693Z",
     "iopub.status.busy": "2025-05-25T17:48:44.838167Z",
     "iopub.status.idle": "2025-05-25T17:48:49.637219Z",
     "shell.execute_reply": "2025-05-25T17:48:49.635692Z",
     "shell.execute_reply.started": "2025-05-25T17:48:44.838645Z"
    },
    "trusted": true
   },
   "outputs": [
    {
     "name": "stdout",
     "output_type": "stream",
     "text": [
      "Requirement already satisfied: langchain in /usr/local/lib/python3.11/dist-packages (0.3.25)\n",
      "Requirement already satisfied: langchain-core in /usr/local/lib/python3.11/dist-packages (0.3.61)\n",
      "Requirement already satisfied: langgraph in /usr/local/lib/python3.11/dist-packages (0.4.7)\n",
      "Requirement already satisfied: langchain-text-splitters<1.0.0,>=0.3.8 in /usr/local/lib/python3.11/dist-packages (from langchain) (0.3.8)\n",
      "Requirement already satisfied: langsmith<0.4,>=0.1.17 in /usr/local/lib/python3.11/dist-packages (from langchain) (0.3.42)\n",
      "Requirement already satisfied: pydantic<3.0.0,>=2.7.4 in /usr/local/lib/python3.11/dist-packages (from langchain) (2.11.4)\n",
      "Requirement already satisfied: SQLAlchemy<3,>=1.4 in /usr/local/lib/python3.11/dist-packages (from langchain) (2.0.40)\n",
      "Requirement already satisfied: requests<3,>=2 in /usr/local/lib/python3.11/dist-packages (from langchain) (2.32.3)\n",
      "Requirement already satisfied: PyYAML>=5.3 in /usr/local/lib/python3.11/dist-packages (from langchain) (6.0.2)\n",
      "Requirement already satisfied: tenacity!=8.4.0,<10.0.0,>=8.1.0 in /usr/local/lib/python3.11/dist-packages (from langchain-core) (9.1.2)\n",
      "Requirement already satisfied: jsonpatch<2.0,>=1.33 in /usr/local/lib/python3.11/dist-packages (from langchain-core) (1.33)\n",
      "Requirement already satisfied: packaging<25,>=23.2 in /usr/local/lib/python3.11/dist-packages (from langchain-core) (24.2)\n",
      "Requirement already satisfied: typing-extensions>=4.7 in /usr/local/lib/python3.11/dist-packages (from langchain-core) (4.13.2)\n",
      "Requirement already satisfied: langgraph-checkpoint>=2.0.26 in /usr/local/lib/python3.11/dist-packages (from langgraph) (2.0.26)\n",
      "Requirement already satisfied: langgraph-prebuilt>=0.2.0 in /usr/local/lib/python3.11/dist-packages (from langgraph) (0.2.1)\n",
      "Requirement already satisfied: langgraph-sdk>=0.1.42 in /usr/local/lib/python3.11/dist-packages (from langgraph) (0.1.70)\n",
      "Requirement already satisfied: xxhash>=3.5.0 in /usr/local/lib/python3.11/dist-packages (from langgraph) (3.5.0)\n",
      "Requirement already satisfied: jsonpointer>=1.9 in /usr/local/lib/python3.11/dist-packages (from jsonpatch<2.0,>=1.33->langchain-core) (3.0.0)\n",
      "Requirement already satisfied: ormsgpack<2.0.0,>=1.8.0 in /usr/local/lib/python3.11/dist-packages (from langgraph-checkpoint>=2.0.26->langgraph) (1.10.0)\n",
      "Requirement already satisfied: httpx>=0.25.2 in /usr/local/lib/python3.11/dist-packages (from langgraph-sdk>=0.1.42->langgraph) (0.28.1)\n",
      "Requirement already satisfied: orjson>=3.10.1 in /usr/local/lib/python3.11/dist-packages (from langgraph-sdk>=0.1.42->langgraph) (3.10.16)\n",
      "Requirement already satisfied: requests-toolbelt<2.0.0,>=1.0.0 in /usr/local/lib/python3.11/dist-packages (from langsmith<0.4,>=0.1.17->langchain) (1.0.0)\n",
      "Requirement already satisfied: zstandard<0.24.0,>=0.23.0 in /usr/local/lib/python3.11/dist-packages (from langsmith<0.4,>=0.1.17->langchain) (0.23.0)\n",
      "Requirement already satisfied: annotated-types>=0.6.0 in /usr/local/lib/python3.11/dist-packages (from pydantic<3.0.0,>=2.7.4->langchain) (0.7.0)\n",
      "Requirement already satisfied: pydantic-core==2.33.2 in /usr/local/lib/python3.11/dist-packages (from pydantic<3.0.0,>=2.7.4->langchain) (2.33.2)\n",
      "Requirement already satisfied: typing-inspection>=0.4.0 in /usr/local/lib/python3.11/dist-packages (from pydantic<3.0.0,>=2.7.4->langchain) (0.4.0)\n",
      "Requirement already satisfied: charset-normalizer<4,>=2 in /usr/local/lib/python3.11/dist-packages (from requests<3,>=2->langchain) (3.4.2)\n",
      "Requirement already satisfied: idna<4,>=2.5 in /usr/local/lib/python3.11/dist-packages (from requests<3,>=2->langchain) (3.10)\n",
      "Requirement already satisfied: urllib3<3,>=1.21.1 in /usr/local/lib/python3.11/dist-packages (from requests<3,>=2->langchain) (2.4.0)\n",
      "Requirement already satisfied: certifi>=2017.4.17 in /usr/local/lib/python3.11/dist-packages (from requests<3,>=2->langchain) (2025.4.26)\n",
      "Requirement already satisfied: greenlet>=1 in /usr/local/lib/python3.11/dist-packages (from SQLAlchemy<3,>=1.4->langchain) (3.1.1)\n",
      "Requirement already satisfied: anyio in /usr/local/lib/python3.11/dist-packages (from httpx>=0.25.2->langgraph-sdk>=0.1.42->langgraph) (4.9.0)\n",
      "Requirement already satisfied: httpcore==1.* in /usr/local/lib/python3.11/dist-packages (from httpx>=0.25.2->langgraph-sdk>=0.1.42->langgraph) (1.0.7)\n",
      "Requirement already satisfied: h11<0.15,>=0.13 in /usr/local/lib/python3.11/dist-packages (from httpcore==1.*->httpx>=0.25.2->langgraph-sdk>=0.1.42->langgraph) (0.14.0)\n",
      "Requirement already satisfied: sniffio>=1.1 in /usr/local/lib/python3.11/dist-packages (from anyio->httpx>=0.25.2->langgraph-sdk>=0.1.42->langgraph) (1.3.1)\n",
      "Note: you may need to restart the kernel to use updated packages.\n"
     ]
    }
   ],
   "source": [
    "pip install --upgrade langchain langchain-core langgraph"
   ]
  },
  {
   "cell_type": "code",
   "execution_count": 3,
   "metadata": {
    "execution": {
     "iopub.execute_input": "2025-05-25T17:48:49.639643Z",
     "iopub.status.busy": "2025-05-25T17:48:49.639215Z",
     "iopub.status.idle": "2025-05-25T17:48:50.553387Z",
     "shell.execute_reply": "2025-05-25T17:48:50.552312Z",
     "shell.execute_reply.started": "2025-05-25T17:48:49.639587Z"
    },
    "trusted": true
   },
   "outputs": [],
   "source": [
    "from typing import Annotated\n",
    "\n",
    "from typing_extensions import TypedDict\n",
    "\n",
    "from langgraph.graph import StateGraph, START,END\n",
    "from langgraph.graph.message import add_messages\n",
    "\n",
    "\n",
    "class State(TypedDict):\n",
    "    # Messages have the type \"list\". The `add_messages` function\n",
    "    # in the annotation defines how this state key should be updated\n",
    "    # (in this case, it appends messages to the list, rather than overwriting them)\n",
    "    messages: Annotated[list, add_messages]\n",
    "\n",
    "\n",
    "graph_builder = StateGraph(State)"
   ]
  },
  {
   "cell_type": "code",
   "execution_count": 4,
   "metadata": {
    "execution": {
     "iopub.execute_input": "2025-05-25T17:48:56.258266Z",
     "iopub.status.busy": "2025-05-25T17:48:56.257661Z",
     "iopub.status.idle": "2025-05-25T17:49:00.846693Z",
     "shell.execute_reply": "2025-05-25T17:49:00.845035Z",
     "shell.execute_reply.started": "2025-05-25T17:48:56.258227Z"
    },
    "trusted": true
   },
   "outputs": [
    {
     "name": "stdout",
     "output_type": "stream",
     "text": [
      "Requirement already satisfied: langchain[google-genai] in /usr/local/lib/python3.11/dist-packages (0.3.25)\n",
      "Requirement already satisfied: langchain-core<1.0.0,>=0.3.58 in /usr/local/lib/python3.11/dist-packages (from langchain[google-genai]) (0.3.61)\n",
      "Requirement already satisfied: langchain-text-splitters<1.0.0,>=0.3.8 in /usr/local/lib/python3.11/dist-packages (from langchain[google-genai]) (0.3.8)\n",
      "Requirement already satisfied: langsmith<0.4,>=0.1.17 in /usr/local/lib/python3.11/dist-packages (from langchain[google-genai]) (0.3.42)\n",
      "Requirement already satisfied: pydantic<3.0.0,>=2.7.4 in /usr/local/lib/python3.11/dist-packages (from langchain[google-genai]) (2.11.4)\n",
      "Requirement already satisfied: SQLAlchemy<3,>=1.4 in /usr/local/lib/python3.11/dist-packages (from langchain[google-genai]) (2.0.40)\n",
      "Requirement already satisfied: requests<3,>=2 in /usr/local/lib/python3.11/dist-packages (from langchain[google-genai]) (2.32.3)\n",
      "Requirement already satisfied: PyYAML>=5.3 in /usr/local/lib/python3.11/dist-packages (from langchain[google-genai]) (6.0.2)\n",
      "Requirement already satisfied: langchain-google-genai in /usr/local/lib/python3.11/dist-packages (from langchain[google-genai]) (2.1.4)\n",
      "Requirement already satisfied: tenacity!=8.4.0,<10.0.0,>=8.1.0 in /usr/local/lib/python3.11/dist-packages (from langchain-core<1.0.0,>=0.3.58->langchain[google-genai]) (9.1.2)\n",
      "Requirement already satisfied: jsonpatch<2.0,>=1.33 in /usr/local/lib/python3.11/dist-packages (from langchain-core<1.0.0,>=0.3.58->langchain[google-genai]) (1.33)\n",
      "Requirement already satisfied: packaging<25,>=23.2 in /usr/local/lib/python3.11/dist-packages (from langchain-core<1.0.0,>=0.3.58->langchain[google-genai]) (24.2)\n",
      "Requirement already satisfied: typing-extensions>=4.7 in /usr/local/lib/python3.11/dist-packages (from langchain-core<1.0.0,>=0.3.58->langchain[google-genai]) (4.13.2)\n",
      "Requirement already satisfied: httpx<1,>=0.23.0 in /usr/local/lib/python3.11/dist-packages (from langsmith<0.4,>=0.1.17->langchain[google-genai]) (0.28.1)\n",
      "Requirement already satisfied: orjson<4.0.0,>=3.9.14 in /usr/local/lib/python3.11/dist-packages (from langsmith<0.4,>=0.1.17->langchain[google-genai]) (3.10.16)\n",
      "Requirement already satisfied: requests-toolbelt<2.0.0,>=1.0.0 in /usr/local/lib/python3.11/dist-packages (from langsmith<0.4,>=0.1.17->langchain[google-genai]) (1.0.0)\n",
      "Requirement already satisfied: zstandard<0.24.0,>=0.23.0 in /usr/local/lib/python3.11/dist-packages (from langsmith<0.4,>=0.1.17->langchain[google-genai]) (0.23.0)\n",
      "Requirement already satisfied: annotated-types>=0.6.0 in /usr/local/lib/python3.11/dist-packages (from pydantic<3.0.0,>=2.7.4->langchain[google-genai]) (0.7.0)\n",
      "Requirement already satisfied: pydantic-core==2.33.2 in /usr/local/lib/python3.11/dist-packages (from pydantic<3.0.0,>=2.7.4->langchain[google-genai]) (2.33.2)\n",
      "Requirement already satisfied: typing-inspection>=0.4.0 in /usr/local/lib/python3.11/dist-packages (from pydantic<3.0.0,>=2.7.4->langchain[google-genai]) (0.4.0)\n",
      "Requirement already satisfied: charset-normalizer<4,>=2 in /usr/local/lib/python3.11/dist-packages (from requests<3,>=2->langchain[google-genai]) (3.4.2)\n",
      "Requirement already satisfied: idna<4,>=2.5 in /usr/local/lib/python3.11/dist-packages (from requests<3,>=2->langchain[google-genai]) (3.10)\n",
      "Requirement already satisfied: urllib3<3,>=1.21.1 in /usr/local/lib/python3.11/dist-packages (from requests<3,>=2->langchain[google-genai]) (2.4.0)\n",
      "Requirement already satisfied: certifi>=2017.4.17 in /usr/local/lib/python3.11/dist-packages (from requests<3,>=2->langchain[google-genai]) (2025.4.26)\n",
      "Requirement already satisfied: greenlet>=1 in /usr/local/lib/python3.11/dist-packages (from SQLAlchemy<3,>=1.4->langchain[google-genai]) (3.1.1)\n",
      "Requirement already satisfied: filetype<2.0.0,>=1.2.0 in /usr/local/lib/python3.11/dist-packages (from langchain-google-genai->langchain[google-genai]) (1.2.0)\n",
      "Requirement already satisfied: google-ai-generativelanguage<0.7.0,>=0.6.18 in /usr/local/lib/python3.11/dist-packages (from langchain-google-genai->langchain[google-genai]) (0.6.18)\n",
      "Requirement already satisfied: google-api-core!=2.0.*,!=2.1.*,!=2.10.*,!=2.2.*,!=2.3.*,!=2.4.*,!=2.5.*,!=2.6.*,!=2.7.*,!=2.8.*,!=2.9.*,<3.0.0,>=1.34.1 in /usr/local/lib/python3.11/dist-packages (from google-api-core[grpc]!=2.0.*,!=2.1.*,!=2.10.*,!=2.2.*,!=2.3.*,!=2.4.*,!=2.5.*,!=2.6.*,!=2.7.*,!=2.8.*,!=2.9.*,<3.0.0,>=1.34.1->google-ai-generativelanguage<0.7.0,>=0.6.18->langchain-google-genai->langchain[google-genai]) (1.34.1)\n",
      "Requirement already satisfied: google-auth!=2.24.0,!=2.25.0,<3.0.0,>=2.14.1 in /usr/local/lib/python3.11/dist-packages (from google-ai-generativelanguage<0.7.0,>=0.6.18->langchain-google-genai->langchain[google-genai]) (2.40.1)\n",
      "Requirement already satisfied: proto-plus<2.0.0,>=1.22.3 in /usr/local/lib/python3.11/dist-packages (from google-ai-generativelanguage<0.7.0,>=0.6.18->langchain-google-genai->langchain[google-genai]) (1.26.1)\n",
      "Requirement already satisfied: protobuf!=4.21.0,!=4.21.1,!=4.21.2,!=4.21.3,!=4.21.4,!=4.21.5,<7.0.0,>=3.20.2 in /usr/local/lib/python3.11/dist-packages (from google-ai-generativelanguage<0.7.0,>=0.6.18->langchain-google-genai->langchain[google-genai]) (3.20.3)\n",
      "Requirement already satisfied: anyio in /usr/local/lib/python3.11/dist-packages (from httpx<1,>=0.23.0->langsmith<0.4,>=0.1.17->langchain[google-genai]) (4.9.0)\n",
      "Requirement already satisfied: httpcore==1.* in /usr/local/lib/python3.11/dist-packages (from httpx<1,>=0.23.0->langsmith<0.4,>=0.1.17->langchain[google-genai]) (1.0.7)\n",
      "Requirement already satisfied: h11<0.15,>=0.13 in /usr/local/lib/python3.11/dist-packages (from httpcore==1.*->httpx<1,>=0.23.0->langsmith<0.4,>=0.1.17->langchain[google-genai]) (0.14.0)\n",
      "Requirement already satisfied: jsonpointer>=1.9 in /usr/local/lib/python3.11/dist-packages (from jsonpatch<2.0,>=1.33->langchain-core<1.0.0,>=0.3.58->langchain[google-genai]) (3.0.0)\n",
      "Requirement already satisfied: googleapis-common-protos<2.0dev,>=1.56.2 in /usr/local/lib/python3.11/dist-packages (from google-api-core!=2.0.*,!=2.1.*,!=2.10.*,!=2.2.*,!=2.3.*,!=2.4.*,!=2.5.*,!=2.6.*,!=2.7.*,!=2.8.*,!=2.9.*,<3.0.0,>=1.34.1->google-api-core[grpc]!=2.0.*,!=2.1.*,!=2.10.*,!=2.2.*,!=2.3.*,!=2.4.*,!=2.5.*,!=2.6.*,!=2.7.*,!=2.8.*,!=2.9.*,<3.0.0,>=1.34.1->google-ai-generativelanguage<0.7.0,>=0.6.18->langchain-google-genai->langchain[google-genai]) (1.70.0)\n",
      "Requirement already satisfied: grpcio<2.0dev,>=1.33.2 in /usr/local/lib/python3.11/dist-packages (from google-api-core[grpc]!=2.0.*,!=2.1.*,!=2.10.*,!=2.2.*,!=2.3.*,!=2.4.*,!=2.5.*,!=2.6.*,!=2.7.*,!=2.8.*,!=2.9.*,<3.0.0,>=1.34.1->google-ai-generativelanguage<0.7.0,>=0.6.18->langchain-google-genai->langchain[google-genai]) (1.72.0rc1)\n",
      "Requirement already satisfied: grpcio-status<2.0dev,>=1.33.2 in /usr/local/lib/python3.11/dist-packages (from google-api-core[grpc]!=2.0.*,!=2.1.*,!=2.10.*,!=2.2.*,!=2.3.*,!=2.4.*,!=2.5.*,!=2.6.*,!=2.7.*,!=2.8.*,!=2.9.*,<3.0.0,>=1.34.1->google-ai-generativelanguage<0.7.0,>=0.6.18->langchain-google-genai->langchain[google-genai]) (1.49.0rc1)\n",
      "Requirement already satisfied: cachetools<6.0,>=2.0.0 in /usr/local/lib/python3.11/dist-packages (from google-auth!=2.24.0,!=2.25.0,<3.0.0,>=2.14.1->google-ai-generativelanguage<0.7.0,>=0.6.18->langchain-google-genai->langchain[google-genai]) (5.5.2)\n",
      "Requirement already satisfied: pyasn1-modules>=0.2.1 in /usr/local/lib/python3.11/dist-packages (from google-auth!=2.24.0,!=2.25.0,<3.0.0,>=2.14.1->google-ai-generativelanguage<0.7.0,>=0.6.18->langchain-google-genai->langchain[google-genai]) (0.4.2)\n",
      "Requirement already satisfied: rsa<5,>=3.1.4 in /usr/local/lib/python3.11/dist-packages (from google-auth!=2.24.0,!=2.25.0,<3.0.0,>=2.14.1->google-ai-generativelanguage<0.7.0,>=0.6.18->langchain-google-genai->langchain[google-genai]) (4.9.1)\n",
      "Requirement already satisfied: sniffio>=1.1 in /usr/local/lib/python3.11/dist-packages (from anyio->httpx<1,>=0.23.0->langsmith<0.4,>=0.1.17->langchain[google-genai]) (1.3.1)\n",
      "Requirement already satisfied: pyasn1<0.7.0,>=0.6.1 in /usr/local/lib/python3.11/dist-packages (from pyasn1-modules>=0.2.1->google-auth!=2.24.0,!=2.25.0,<3.0.0,>=2.14.1->google-ai-generativelanguage<0.7.0,>=0.6.18->langchain-google-genai->langchain[google-genai]) (0.6.1)\n",
      "Note: you may need to restart the kernel to use updated packages.\n"
     ]
    }
   ],
   "source": [
    "pip install -U \"langchain[google-genai]\""
   ]
  },
  {
   "cell_type": "code",
   "execution_count": 5,
   "metadata": {
    "execution": {
     "iopub.execute_input": "2025-05-25T17:49:04.120839Z",
     "iopub.status.busy": "2025-05-25T17:49:04.120496Z",
     "iopub.status.idle": "2025-05-25T17:49:04.126265Z",
     "shell.execute_reply": "2025-05-25T17:49:04.125215Z",
     "shell.execute_reply.started": "2025-05-25T17:49:04.120808Z"
    },
    "trusted": true
   },
   "outputs": [],
   "source": [
    "import os\n",
    "import requests\n",
    "from langchain_core.messages import ToolMessage, BaseMessage\n"
   ]
  },
  {
   "cell_type": "code",
   "execution_count": null,
   "metadata": {
    "execution": {
     "iopub.execute_input": "2025-05-25T17:49:06.472402Z",
     "iopub.status.busy": "2025-05-25T17:49:06.472111Z",
     "iopub.status.idle": "2025-05-25T17:49:07.188692Z",
     "shell.execute_reply": "2025-05-25T17:49:07.187541Z",
     "shell.execute_reply.started": "2025-05-25T17:49:06.472383Z"
    },
    "trusted": true
   },
   "outputs": [],
   "source": [
    "\n",
    "from langchain.chat_models import init_chat_model\n",
    "\n",
    "os.environ[\"GOOGLE_API_KEY\"] = \"YOUR_GEMINI_API\"\n",
    "\n",
    "os.environ[\"OPENWEATHER_API_KEY\"] = \"YOUR API\"\n",
    "\n",
    "llm = init_chat_model(\"google_genai:gemini-2.0-flash\")"
   ]
  },
  {
   "cell_type": "code",
   "execution_count": 7,
   "metadata": {
    "execution": {
     "iopub.execute_input": "2025-05-25T17:49:09.488368Z",
     "iopub.status.busy": "2025-05-25T17:49:09.487861Z",
     "iopub.status.idle": "2025-05-25T17:49:09.496376Z",
     "shell.execute_reply": "2025-05-25T17:49:09.495328Z",
     "shell.execute_reply.started": "2025-05-25T17:49:09.488342Z"
    },
    "trusted": true
   },
   "outputs": [
    {
     "data": {
      "text/plain": [
       "<langgraph.graph.state.StateGraph at 0x7d8d8e64dd10>"
      ]
     },
     "execution_count": 7,
     "metadata": {},
     "output_type": "execute_result"
    }
   ],
   "source": [
    "def chatbot(state: State):\n",
    "    return {\"messages\": [llm.invoke(state[\"messages\"])]}\n",
    "\n",
    "\n",
    "\n",
    "graph_builder.add_node(\"chatbot\", chatbot)"
   ]
  },
  {
   "cell_type": "code",
   "execution_count": 8,
   "metadata": {
    "execution": {
     "iopub.execute_input": "2025-05-25T17:49:10.640644Z",
     "iopub.status.busy": "2025-05-25T17:49:10.640080Z",
     "iopub.status.idle": "2025-05-25T17:49:10.652357Z",
     "shell.execute_reply": "2025-05-25T17:49:10.651186Z",
     "shell.execute_reply.started": "2025-05-25T17:49:10.640612Z"
    },
    "trusted": true
   },
   "outputs": [],
   "source": [
    "from langchain_core.messages import BaseMessage,ToolMessage\n",
    "def router(state: State) -> str:\n",
    "     last_message = state[\"messages\"][-1]\n",
    "     if isinstance(last_message, BaseMessage):\n",
    "         input_text = last_message.content\n",
    "     else:\n",
    "         input_text = str(last_message)\n",
    "     if any(op in input_text for op in \"+-*/\"):\n",
    "         return \"calculator\"\n",
    "     elif (any(op in input_text for op in[\"trending\",\"fashion\"]) )   :\n",
    "         return \"fashion_rec\"\n",
    "     elif (any(op in input_text for op in[\"weather\"]) )   :\n",
    "         return \"weather_node\"\n",
    "     return \"chatbot\""
   ]
  },
  {
   "cell_type": "code",
   "execution_count": 9,
   "metadata": {
    "execution": {
     "iopub.execute_input": "2025-05-25T17:49:11.737733Z",
     "iopub.status.busy": "2025-05-25T17:49:11.737301Z",
     "iopub.status.idle": "2025-05-25T17:49:11.748343Z",
     "shell.execute_reply": "2025-05-25T17:49:11.747128Z",
     "shell.execute_reply.started": "2025-05-25T17:49:11.737705Z"
    },
    "trusted": true
   },
   "outputs": [
    {
     "data": {
      "text/plain": [
       "<langgraph.graph.state.StateGraph at 0x7d8d8e64dd10>"
      ]
     },
     "execution_count": 9,
     "metadata": {},
     "output_type": "execute_result"
    }
   ],
   "source": [
    "def calculator_tool(state: State) -> dict:\n",
    " \n",
    "    last_message = state[\"messages\"][-1]\n",
    "\n",
    "    \n",
    "    if isinstance(last_message, BaseMessage):\n",
    "        expression = last_message.content\n",
    "    else:\n",
    "       \n",
    "        expression = str(last_message)\n",
    "\n",
    "    try:\n",
    "        result = eval(expression)\n",
    "        # Return a dictionary with a 'messages' key containing a ToolMessage\n",
    "        # This allows LangGraph to correctly add the tool's output to the conversation history.\n",
    "        return {\"messages\": [ToolMessage(content=f\"The result is: {result}\", tool_call_id=\"calculator_output\")]}\n",
    "    except Exception as e:\n",
    "        # Return error as a ToolMessage if calculation fails\n",
    "        return {\"messages\": [ToolMessage(content=f\"Error calculating: {e}\", tool_call_id=\"calculator_error\")]}\n",
    "\n",
    "graph_builder.add_node(\"calculator\", calculator_tool)\n"
   ]
  },
  {
   "cell_type": "code",
   "execution_count": 10,
   "metadata": {
    "execution": {
     "iopub.execute_input": "2025-05-25T17:49:14.393744Z",
     "iopub.status.busy": "2025-05-25T17:49:14.393033Z",
     "iopub.status.idle": "2025-05-25T17:49:14.411383Z",
     "shell.execute_reply": "2025-05-25T17:49:14.410462Z",
     "shell.execute_reply.started": "2025-05-25T17:49:14.393709Z"
    },
    "trusted": true
   },
   "outputs": [
    {
     "data": {
      "text/plain": [
       "<langgraph.graph.state.StateGraph at 0x7d8d8e64dd10>"
      ]
     },
     "execution_count": 10,
     "metadata": {},
     "output_type": "execute_result"
    }
   ],
   "source": [
    "import requests\n",
    "def weather_node(state: State) -> dict:\n",
    "    \n",
    "    last_message = state[\"messages\"][-1]\n",
    "    if isinstance(last_message, BaseMessage):\n",
    "        query = last_message.content\n",
    "    else:\n",
    "        query = str(last_message)\n",
    "\n",
    "    \n",
    "    location = \"unknown\"\n",
    "    if \"weather in\" in query.lower():\n",
    "        parts = query.lower().split(\"weather in\")\n",
    "        if len(parts) > 1:\n",
    "           location = parts[1].strip(\"?.\").strip()\n",
    " \n",
    "\n",
    "    if location == \"unknown\":\n",
    "        return {\"messages\": [ToolMessage(content=\"Could not determine location for weather. Please specify.\", tool_call_id=\"weather_error\")]}\n",
    "\n",
    "    OPENWEATHER_API_KEY = os.getenv(\"OPENWEATHER_API_KEY\")\n",
    "   \n",
    "\n",
    "    base_url = \"http://api.openweathermap.org/data/2.5/weather\"\n",
    "    params = {\n",
    "        \"q\": location,\n",
    "        \"appid\": OPENWEATHER_API_KEY,\n",
    "        \"units\": \"metric\"\n",
    "    }\n",
    "    try:\n",
    "        response = requests.get(base_url, params=params)\n",
    "        response.raise_for_status()\n",
    "        data = response.json()\n",
    "\n",
    "        if data.get(\"cod\") != 200:\n",
    "            return {\"messages\": [ToolMessage(content=f\"Error fetching weather: {data.get('message', 'Unknown error')}\", tool_call_id=\"weather_api_error\")]}\n",
    "\n",
    "        weather_description = data[\"weather\"][0][\"description\"]\n",
    "        temperature = data[\"main\"][\"temp\"]\n",
    "        feels_like = data[\"main\"][\"feels_like\"]\n",
    "        humidity = data[\"main\"][\"humidity\"]\n",
    "\n",
    "        return {\"messages\": [ToolMessage(\n",
    "            content=f\"The current weather in {location} is {weather_description} with a \"\n",
    "                    f\"temperature of {temperature}°C (feels like {feels_like}°C). \"\n",
    "                    f\"Humidity is {humidity}%.\",\n",
    "            tool_call_id=\"weather_success\"\n",
    "        )]}\n",
    "\n",
    "    except Exception as e:\n",
    "        return {\"messages\": [ToolMessage(content=f\"An unexpected error occurred getting weather: {e}\", tool_call_id=\"weather_general_error\")]}\n",
    "\n",
    "graph_builder.add_node(\"weather_node\", weather_node)\n"
   ]
  },
  {
   "cell_type": "code",
   "execution_count": 11,
   "metadata": {
    "execution": {
     "iopub.execute_input": "2025-05-25T17:49:15.928885Z",
     "iopub.status.busy": "2025-05-25T17:49:15.928566Z",
     "iopub.status.idle": "2025-05-25T17:49:15.936771Z",
     "shell.execute_reply": "2025-05-25T17:49:15.935713Z",
     "shell.execute_reply.started": "2025-05-25T17:49:15.928864Z"
    },
    "trusted": true
   },
   "outputs": [
    {
     "data": {
      "text/plain": [
       "<langgraph.graph.state.StateGraph at 0x7d8d8e64dd10>"
      ]
     },
     "execution_count": 11,
     "metadata": {},
     "output_type": "execute_result"
    }
   ],
   "source": [
    "def fashion_rec(state:State)->dict:\n",
    "    last_message = state[\"messages\"][-1]\n",
    "\n",
    "    \n",
    "    if isinstance(last_message, BaseMessage):\n",
    "        expression = last_message.content\n",
    "    else:\n",
    "       \n",
    "        expression = str(last_message)\n",
    "    try:\n",
    "        \n",
    "        result = expression+\" in context of fashion\"\n",
    "        \n",
    "        return {\"messages\": [llm.invoke(result)]}\n",
    "\n",
    "    except Exception as e:\n",
    "        # Return error as a ToolMessage if calculation fails\n",
    "        return {\"messages\": [ToolMessage(content=f\"Error: {e}\", tool_call_id=\"calculator_error\")]}\n",
    "\n",
    "graph_builder.add_node(\"fashion_rec\", fashion_rec)\n",
    "\n",
    "    "
   ]
  },
  {
   "cell_type": "code",
   "execution_count": 12,
   "metadata": {
    "execution": {
     "iopub.execute_input": "2025-05-25T17:49:16.897168Z",
     "iopub.status.busy": "2025-05-25T17:49:16.896849Z",
     "iopub.status.idle": "2025-05-25T17:49:16.905763Z",
     "shell.execute_reply": "2025-05-25T17:49:16.904625Z",
     "shell.execute_reply.started": "2025-05-25T17:49:16.897146Z"
    },
    "trusted": true
   },
   "outputs": [
    {
     "data": {
      "text/plain": [
       "<langgraph.graph.state.StateGraph at 0x7d8d8e64dd10>"
      ]
     },
     "execution_count": 12,
     "metadata": {},
     "output_type": "execute_result"
    }
   ],
   "source": [
    " \n",
    "graph_builder.add_conditional_edges(\n",
    "    START, \n",
    "    router, \n",
    "    {\n",
    "        \"calculator\": \"calculator\", \n",
    "        \"chatbot\": \"chatbot\",    \n",
    "        \"fashion_rec\":\"fashion_rec\",\n",
    "        \"weather_node\":\"weather_node\"\n",
    "    }\n",
    ")\n",
    "\n",
    "\n",
    "graph_builder.add_edge(\"calculator\", END)\n",
    "graph_builder.add_edge(\"chatbot\", END)\n",
    "graph_builder.add_edge(\"fashion_rec\", END)\n",
    "graph_builder.add_edge(\"weather_node\",END)"
   ]
  },
  {
   "cell_type": "code",
   "execution_count": 13,
   "metadata": {
    "execution": {
     "iopub.execute_input": "2025-05-25T17:49:17.744552Z",
     "iopub.status.busy": "2025-05-25T17:49:17.744193Z",
     "iopub.status.idle": "2025-05-25T17:49:17.756341Z",
     "shell.execute_reply": "2025-05-25T17:49:17.754904Z",
     "shell.execute_reply.started": "2025-05-25T17:49:17.744529Z"
    },
    "trusted": true
   },
   "outputs": [],
   "source": [
    "graph = graph_builder.compile()"
   ]
  },
  {
   "cell_type": "code",
   "execution_count": 14,
   "metadata": {
    "execution": {
     "iopub.execute_input": "2025-05-25T17:49:18.872404Z",
     "iopub.status.busy": "2025-05-25T17:49:18.872061Z",
     "iopub.status.idle": "2025-05-25T17:49:18.998915Z",
     "shell.execute_reply": "2025-05-25T17:49:18.997370Z",
     "shell.execute_reply.started": "2025-05-25T17:49:18.872379Z"
    },
    "trusted": true
   },
   "outputs": [
    {
     "data": {
      "image/png": "[encoded data removed]",
      "text/plain": [
       "<IPython.core.display.Image object>"
      ]
     },
     "metadata": {},
     "output_type": "display_data"
    }
   ],
   "source": [
    "from IPython.display import Image, display\n",
    "\n",
    "try:\n",
    "    display(Image(graph.get_graph().draw_mermaid_png()))\n",
    "except Exception:\n",
    "    \n",
    "    pass"
   ]
  },
  {
   "cell_type": "code",
   "execution_count": 15,
   "metadata": {
    "execution": {
     "iopub.execute_input": "2025-05-25T17:49:20.184533Z",
     "iopub.status.busy": "2025-05-25T17:49:20.184166Z",
     "iopub.status.idle": "2025-05-25T17:50:17.424193Z",
     "shell.execute_reply": "2025-05-25T17:50:17.422835Z",
     "shell.execute_reply.started": "2025-05-25T17:49:20.184510Z"
    },
    "trusted": true
   },
   "outputs": [
    {
     "name": "stdout",
     "output_type": "stream",
     "text": [
      "User:  hello\n"
     ]
    },
    {
     "name": "stdout",
     "output_type": "stream",
     "text": [
      "Assistant: Hello! How can I help you today?\n"
     ]
    },
    {
     "name": "stdout",
     "output_type": "stream",
     "text": [
      "User:  whatsup dawg\n"
     ]
    },
    {
     "name": "stdout",
     "output_type": "stream",
     "text": [
      "Assistant: Hey! Just hanging out. What's up with you? Anything exciting happening?\n"
     ]
    },
    {
     "name": "stdout",
     "output_type": "stream",
     "text": [
      "User:  5/3-1+2\n"
     ]
    },
    {
     "name": "stdout",
     "output_type": "stream",
     "text": [
      "Assistant: The result is: 2.666666666666667\n"
     ]
    },
    {
     "name": "stdout",
     "output_type": "stream",
     "text": [
      "User:  weather in new delhi\n"
     ]
    },
    {
     "name": "stdout",
     "output_type": "stream",
     "text": [
      "Assistant: The current weather in new delhi is mist with a temperature of 28.09°C (feels like 32.81°C). Humidity is 83%.\n"
     ]
    },
    {
     "name": "stdout",
     "output_type": "stream",
     "text": [
      "User:  whats trending in new delhi\n"
     ]
    },
    {
     "name": "stdout",
     "output_type": "stream",
     "text": [
      "Assistant: Okay, here's a breakdown of what's trending in fashion in New Delhi right now, based on current observations and reports:\n",
      "\n",
      "**Overall Trends:**\n",
      "\n",
      "*   **Comfort and Versatility:** With people spending more time at home and also wanting to transition easily to outings, comfortable and versatile clothing is still key. Think relaxed silhouettes, breathable fabrics, and pieces that can be dressed up or down.\n",
      "*   **Sustainability and Conscious Consumption:** Eco-friendly fabrics, upcycled clothing, and brands that prioritize ethical production are gaining traction. Consumers are more aware of the environmental impact of their fashion choices.\n",
      "*   **Fusion Wear:** Blending traditional Indian elements with modern Western styles continues to be popular. This includes kurta dresses, crop tops with sarees, and incorporating Indian prints and embroidery into contemporary designs.\n",
      "*   **Return of Y2K:** Low-rise jeans, crop tops, baby tees, and vibrant colors are making a comeback.\n",
      "\n",
      "**Specific Items & Styles:**\n",
      "\n",
      "*   **Sarees:** Sarees are a classic and always in style, but modern interpretations are popular. This includes pre-draped sarees, sarees with unconventional blouses (crop tops, shirts), and lightweight, easy-to-manage fabrics.\n",
      "*   **Kurti Sets:** Comfortable and stylish, Kurti sets with palazzo pants, straight pants, or skirts are a go-to for many.\n",
      "*   **Statement Sleeves:** Tops and dresses with dramatic sleeves (puffed, ruffled, bell sleeves) are a way to add flair to an outfit.\n",
      "*   **Bold Colors and Prints:** Bright, saturated colors like fuchsia, emerald green, cobalt blue, and sunshine yellow are trending. Geometric prints, floral patterns, and abstract designs are also popular.\n",
      "*   **Jewelry:**\n",
      "    *   **Chunky Jewelry:** Bold necklaces, statement earrings, and chunky bracelets are in.\n",
      "    *   **Oxidized Silver:** A classic Indian style, oxidized silver jewelry continues to be a favorite.\n",
      "    *   **Minimalist Jewelry:** Delicate necklaces, dainty earrings, and simple rings are also popular for everyday wear.\n",
      "*   **Footwear:**\n",
      "    *   **Chunky Sneakers:** Comfortable and stylish, chunky sneakers are a versatile option.\n",
      "    *   **Juttis:** Traditional Indian footwear, juttis are often paired with both ethnic and Western outfits.\n",
      "    *   **Strappy Sandals:** Simple, strappy sandals are perfect for warmer weather.\n",
      "*   **Accessories:**\n",
      "    *   **Statement Bags:** Crossbody bags, tote bags, and mini bags in bold colors or unique designs.\n",
      "    *   **Sunglasses:** Oversized sunglasses and retro-inspired frames.\n",
      "    *   **Hair Accessories:** Headbands, scarves, and clips are used to add a touch of personality to hairstyles.\n",
      "\n",
      "**Influences:**\n",
      "\n",
      "*   **Bollywood:** Bollywood celebrities continue to be major fashion influencers, with their outfits often setting trends.\n",
      "*   **Social Media:** Instagram and other social media platforms play a significant role in shaping fashion trends, with influencers and bloggers showcasing the latest styles.\n",
      "*   **Local Designers:** New Delhi has a vibrant fashion scene with many talented local designers who are creating unique and innovative pieces.\n",
      "\n",
      "**Tips for Staying on Trend:**\n",
      "\n",
      "*   **Follow Indian Fashion Bloggers and Influencers:** Look for those based in Delhi or who focus on Indian fashion.\n",
      "*   **Browse Online Retailers:** Check out popular Indian e-commerce sites to see what's being promoted.\n",
      "*   **Visit Local Markets and Boutiques:** Explore Delhi's markets (like Sarojini Nagar, Janpath, and Dilli Haat) and designer boutiques to discover unique finds.\n",
      "*   **Read Fashion Magazines and Websites:** Stay up-to-date on the latest trends by reading Indian fashion publications.\n",
      "\n",
      "**Important Note:** Fashion is subjective and personal. The best way to stay on trend is to incorporate elements that you like and that suit your individual style. Don't be afraid to experiment and create your own unique look.\n",
      "\n",
      "Goodbye!\n"
     ]
    }
   ],
   "source": [
    "def stream_graph_updates(user_input: str):\n",
    "    for event in graph.stream({\"messages\": [{\"role\": \"user\", \"content\": user_input}]}):\n",
    "        for value in event.values():\n",
    "            print(\"Assistant:\", value[\"messages\"][-1].content\n",
    "                )\n",
    "\n",
    "\n",
    "while True:\n",
    "    try:\n",
    "        user_input = input(\"User: \")\n",
    "        if user_input.lower() in [\"quit\", \"exit\", \"q\"]:\n",
    "            print(\"Goodbye!\")\n",
    "            break\n",
    "        stream_graph_updates(user_input)\n",
    "   \n",
    "    except KeyboardInterrupt:\n",
    "        print(\"\\nGoodbye!\")\n",
    "        break"
   ]
  },
  {
   "cell_type": "code",
   "execution_count": null,
   "metadata": {
    "trusted": true
   },
   "outputs": [],
   "source": []
  }
 ],
 "metadata": {
  "kaggle": {
   "accelerator": "none",
   "dataSources": [],
   "dockerImageVersionId": 31040,
   "isGpuEnabled": false,
   "isInternetEnabled": true,
   "language": "python",
   "sourceType": "notebook"
  },
  "kernelspec": {
   "display_name": "Python 3",
   "language": "python",
   "name": "python3"
  },
  "language_info": {
   "codemirror_mode": {
    "name": "ipython",
    "version": 3
   },
   "file_extension": ".py",
   "mimetype": "text/x-python",
   "name": "python",
   "nbconvert_exporter": "python",
   "pygments_lexer": "ipython3",
   "version": "3.11.11"
  }
 },
 "nbformat": 4,
 "nbformat_minor": 4
}
